{
 "cells": [
  {
   "cell_type": "code",
   "execution_count": 1,
   "id": "6cf26ae8",
   "metadata": {},
   "outputs": [],
   "source": [
    "# Import the necessary libraries\n",
    "from bs4 import BeautifulSoup\n",
    "import requests\n",
    "import time                                 # This library is used for time\n",
    "import datetime\n",
    "import csv                                  # This is used to create a CSV file or EXCEL\n",
    "import pandas as pd\n",
    "\n",
    "import smtplib                              # This is useful for sending email to ourself\n",
    "\n",
    "from password import *"
   ]
  },
  {
   "cell_type": "code",
   "execution_count": 2,
   "id": "17dbd3cf",
   "metadata": {},
   "outputs": [],
   "source": [
    "# Connecting to the website using the URL\n",
    "url = \"https://www.amazon.com/dp/B08HMYKL1G/ref=sspa_dk_detail_6?psc=1&pd_rd_i=B08HMYKL1G&pd_rd_w=Ryqhb&pf_rd_p=0c758152-61cd-452f-97a6-17f070f654b8&pd_rd_wg=CNfyu&pf_rd_r=B5V6J7C4JXENTBQJ7J05&pd_rd_r=1f36f517-e230-4f87-aefe-c59036c9ee9c&s=apparel&spLa=ZW5jcnlwdGVkUXVhbGlmaWVyPUFRS1dUS0Y5TFFaV0smZW5jcnlwdGVkSWQ9QTA0ODAwMTAyS044UlNTVlZQVkhUJmVuY3J5cHRlZEFkSWQ9QTA0Njc1MDgxTU1XQlowWlRQWVU4JndpZGdldE5hbWU9c3BfZGV0YWlsJmFjdGlvbj1jbGlja1JlZGlyZWN0JmRvTm90TG9nQ2xpY2s9dHJ1ZQ==\"\n"
   ]
  },
  {
   "cell_type": "code",
   "execution_count": 3,
   "id": "ee446478",
   "metadata": {},
   "outputs": [],
   "source": [
    "# Get the header of my computer\n",
    "# Use the link 'http://httpbin.org/get' to get that\n",
    "# This is used so that Amazon doesn't thing I am a bot.\n",
    "headers = {\"User-Agent\": \"Mozilla/5.0\"}"
   ]
  },
  {
   "cell_type": "code",
   "execution_count": 4,
   "id": "980cf32b",
   "metadata": {},
   "outputs": [],
   "source": [
    "# Connect to the page\n",
    "req = requests.Session()\n",
    "page = req.get(url, headers=headers, cookies={'from-my': 'browser'})"
   ]
  },
  {
   "cell_type": "code",
   "execution_count": 5,
   "id": "ad949fe8",
   "metadata": {},
   "outputs": [],
   "source": [
    "# Get the data using the BeautifulSoup Library\n",
    "soup1 = BeautifulSoup(page.content, \"html.parser\")\n",
    "soup2 = BeautifulSoup(soup1.prettify())                   # It helps to keep thinks look better\n",
    "# print(soup2)"
   ]
  },
  {
   "cell_type": "code",
   "execution_count": 6,
   "id": "b11f7081",
   "metadata": {},
   "outputs": [],
   "source": [
    "def get_title(soup):\n",
    "    '''\n",
    "        Looking at the Amazon website there is sometimes the scripts are considered as BOTS\n",
    "        This might help to not stop the code in the middle of the algorithm\n",
    "    '''\n",
    "    try:\n",
    "        title = soup.find(id=\"productTitle\")\n",
    "        title = title.get_text()\n",
    "        title = title.strip()\n",
    "    except:\n",
    "        title = \"\"\n",
    "        # print(\"Title is none\")\n",
    "        # print(\"Could be problem with Requests (BOTS)\")\n",
    "    \n",
    "    return title"
   ]
  },
  {
   "cell_type": "code",
   "execution_count": 7,
   "id": "e9d42ba7",
   "metadata": {},
   "outputs": [],
   "source": [
    "def get_price(soup):\n",
    "    '''\n",
    "        Looking at the Amazon website there is sometimes the scripts are considered as BOTS\n",
    "        This might help to not stop the code in the middle of the algorithm\n",
    "        \n",
    "        The pice data is very complicated, due to discounted price\n",
    "        Sometimes the HTML tags are different\n",
    "        Add multiple method to get the price\n",
    "    '''\n",
    "    try:\n",
    "        price = soup.find(id=\"corePriceDisplay_desktop_feature_div\")\n",
    "        price = price.get_text()\n",
    "        price = price.strip().split()[0][1:]\n",
    "    except:\n",
    "        price = \"\"\n",
    "        # print(\"Title is none\")\n",
    "        # print(\"Could be problem with Requests (BOTS)\")\n",
    "    \n",
    "    return price"
   ]
  },
  {
   "cell_type": "code",
   "execution_count": 8,
   "id": "3a885382",
   "metadata": {},
   "outputs": [],
   "source": [
    "def get_date_time():\n",
    "    date = datetime.date.today()\n",
    "    time = datetime.datetime.now()\n",
    "    current_time = time.strftime(\"%H:%M:%S\")\n",
    "    \n",
    "    return date, time"
   ]
  },
  {
   "cell_type": "code",
   "execution_count": 13,
   "id": "8ed92b00",
   "metadata": {},
   "outputs": [],
   "source": [
    "def send_mail():\n",
    "    server = smtplib.SMTP_SSL(\"smtp.gmail.com\", 465)\n",
    "    server.ehlo()\n",
    "    # server.startls()\n",
    "    server.ehlo()\n",
    "    \n",
    "    print(USERNAME, PASSWORD)\n",
    "    server.login(USERNAME, PASSWORD)\n",
    "    \n",
    "    subject = \"The jacket id below 35$.\"\n",
    "    body = \"Harsh, you should now buy this jacket now before the price increases again.\"\n",
    "    \n",
    "    msg = f\"subject: {subject}\\n\\n{body}\"\n",
    "    \n",
    "    server.sendmail(\n",
    "        USERNAME,\n",
    "        USERNAME,\n",
    "        msg\n",
    "    )\n",
    "    "
   ]
  },
  {
   "cell_type": "code",
   "execution_count": 14,
   "id": "397f7196",
   "metadata": {},
   "outputs": [
    {
     "name": "stdout",
     "output_type": "stream",
     "text": [
      "Rodeel Men's Softshell Front-zip Jacket Fleece Lined Windproof Breathable Hooded Coat\n",
      "46.99\n"
     ]
    }
   ],
   "source": [
    "# Get the title of the Amazon webpage\n",
    "title = get_title(soup2)\n",
    "price = get_price(soup2)\n",
    "current_date, current_time = get_date_time()\n",
    "print(title)\n",
    "print(price)"
   ]
  },
  {
   "cell_type": "code",
   "execution_count": 15,
   "id": "57b502ca",
   "metadata": {},
   "outputs": [],
   "source": [
    "# Save the data into the table into the CSV File\n",
    "csv_header = [\"Title\", \"Price\", \"Date\", \"Time\"]\n",
    "csv_data = [title, price, current_date, current_time]\n",
    "\n",
    "with open('AmazonProductDataset.csv', 'w', newline='', encoding='UTF8') as file:\n",
    "    writer = csv.writer(file)\n",
    "    writer.writerow(csv_header)\n",
    "    writer.writerow(csv_data)"
   ]
  },
  {
   "cell_type": "code",
   "execution_count": 16,
   "id": "43f33ab0",
   "metadata": {
    "scrolled": true
   },
   "outputs": [
    {
     "name": "stdout",
     "output_type": "stream",
     "text": [
      "Harsh.Kishorsingh.Thakur@gmail.com alzyrpecwzzivgbk\n"
     ]
    }
   ],
   "source": [
    "#  Now we will append to the CSV File\n",
    "with open('AmazonProductDataset.csv', 'a+', newline='', encoding='UTF8') as file:\n",
    "    writer = csv.writer(file)\n",
    "    writer.writerow(csv_data)\n",
    "    \n",
    "    if float(price) < 50:\n",
    "        send_mail()"
   ]
  },
  {
   "cell_type": "code",
   "execution_count": null,
   "id": "cead2cf1",
   "metadata": {},
   "outputs": [],
   "source": [
    "def check_price():\n",
    "    '''\n",
    "        This function is used to get the price the price automatically from the website\n",
    "        \n",
    "    '''\n",
    "    # Connecting to the website using the URL\n",
    "    url = \"https://www.amazon.com/dp/B08HMYKL1G/ref=sspa_dk_detail_6?psc=1&pd_rd_i=B08HMYKL1G&pd_rd_w=Ryqhb&pf_rd_p=0c758152-61cd-452f-97a6-17f070f654b8&pd_rd_wg=CNfyu&pf_rd_r=B5V6J7C4JXENTBQJ7J05&pd_rd_r=1f36f517-e230-4f87-aefe-c59036c9ee9c&s=apparel&spLa=ZW5jcnlwdGVkUXVhbGlmaWVyPUFRS1dUS0Y5TFFaV0smZW5jcnlwdGVkSWQ9QTA0ODAwMTAyS044UlNTVlZQVkhUJmVuY3J5cHRlZEFkSWQ9QTA0Njc1MDgxTU1XQlowWlRQWVU4JndpZGdldE5hbWU9c3BfZGV0YWlsJmFjdGlvbj1jbGlja1JlZGlyZWN0JmRvTm90TG9nQ2xpY2s9dHJ1ZQ==\"\n",
    "    \n",
    "    # Connect to the page\n",
    "    req = requests.Session()\n",
    "    page = req.get(url, headers=headers, cookies={'from-my': 'browser'})\n",
    "\n",
    "    # Get the data using the BeautifulSoup Library\n",
    "    soup1 = BeautifulSoup(page.content, \"html.parser\")\n",
    "    soup2 = BeautifulSoup(soup1.prettify())                   # It helps to keep thinks look better\n",
    "    \n",
    "    # Get the title and price of the Amazon webpage\n",
    "    title = get_title(soup2)\n",
    "    price = get_price(soup2)\n",
    "    current_date, current_time = get_date_time()\n",
    "    \n",
    "    # Save the data into the table into the CSV File\n",
    "    csv_header = [\"Title\", \"Price\", \"Date\", \"Time\"]\n",
    "    csv_data = [title, price, current_date, current_time]\n",
    "\n",
    "    #  Now we will append to the CSV File\n",
    "    with open('AmazonProductDataset.csv', 'a+', newline='', encoding='UTF8') as file:\n",
    "        writer = csv.writer(file)\n",
    "        writer.writerow(csv_data)\n",
    "    "
   ]
  },
  {
   "cell_type": "code",
   "execution_count": null,
   "id": "0203a4a9",
   "metadata": {},
   "outputs": [],
   "source": [
    "while True:\n",
    "    check_price()\n",
    "    time.sleep(10)"
   ]
  },
  {
   "cell_type": "code",
   "execution_count": null,
   "id": "6fa795f4",
   "metadata": {},
   "outputs": [],
   "source": [
    "df = pd.read_csv(r\"AmazonProductDataset.csv\")\n",
    "df"
   ]
  },
  {
   "cell_type": "code",
   "execution_count": null,
   "id": "1174e9ad",
   "metadata": {},
   "outputs": [],
   "source": []
  }
 ],
 "metadata": {
  "kernelspec": {
   "display_name": "Python 3 (ipykernel)",
   "language": "python",
   "name": "python3"
  },
  "language_info": {
   "codemirror_mode": {
    "name": "ipython",
    "version": 3
   },
   "file_extension": ".py",
   "mimetype": "text/x-python",
   "name": "python",
   "nbconvert_exporter": "python",
   "pygments_lexer": "ipython3",
   "version": "3.9.7"
  }
 },
 "nbformat": 4,
 "nbformat_minor": 5
}
